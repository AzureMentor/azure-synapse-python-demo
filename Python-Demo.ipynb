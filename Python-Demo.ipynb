{
  "metadata": {
    "description": "Python Demo",
    "saveOutput": true,
    "language_info": {
      "name": "python"
    }
  },
  "nbformat": 4,
  "nbformat_minor": 2,
  "cells": [
    {
      "cell_type": "markdown",
      "metadata": {},
      "source": [
        "# Azure Synapse Analytics Python Demo\n",
        "## Data source: Public Holidays Open Dataset"
      ],
      "attachments": {}
    },
    {
      "cell_type": "code",
      "execution_count": 9,
      "outputs": [],
      "metadata": {},
      "source": [
        "from azureml.opendatasets import PublicHolidays\n",
        " \n",
        "from datetime import datetime\n",
        "from dateutil import parser\n",
        "from dateutil.relativedelta import relativedelta"
      ],
      "attachments": {}
    },
    {
      "cell_type": "markdown",
      "metadata": {},
      "source": [
        "## Load public holiday data for the past 12 months"
      ],
      "attachments": {}
    },
    {
      "cell_type": "code",
      "execution_count": 10,
      "outputs": [],
      "metadata": {},
      "source": [
        "end_date = datetime.today()\n",
        "start_date = end_date - relativedelta(months=12)\n",
        "holidays = PublicHolidays(start_date=start_date, end_date=end_date)"
      ],
      "attachments": {}
    },
    {
      "cell_type": "markdown",
      "metadata": {},
      "source": [
        "## Convert to Spark DataFrame"
      ],
      "attachments": {}
    },
    {
      "cell_type": "code",
      "execution_count": 11,
      "outputs": [],
      "metadata": {},
      "source": [
        "holidays_df = holidays.to_spark_dataframe()"
      ],
      "attachments": {}
    },
    {
      "cell_type": "markdown",
      "metadata": {},
      "source": [
        "## Get a count of the DataFrame"
      ],
      "attachments": {}
    },
    {
      "cell_type": "code",
      "execution_count": 12,
      "outputs": [
        {
          "output_type": "execute_result",
          "execution_count": 12,
          "data": {
            "text/plain": "545"
          },
          "metadata": {}
        }
      ],
      "metadata": {},
      "source": [
        "holidays_df.count()"
      ],
      "attachments": {}
    },
    {
      "cell_type": "markdown",
      "metadata": {},
      "source": [
        "## Show the first 20 rows of the DataFrame"
      ],
      "attachments": {}
    },
    {
      "cell_type": "code",
      "execution_count": 13,
      "outputs": [
        {
          "output_type": "execute_result",
          "execution_count": 13,
          "data": {
            "text/plain": "+---------------+--------------------+--------------------+-------------+-----------------+-------------------+\n|countryOrRegion|         holidayName|normalizeHolidayName|isPaidTimeOff|countryRegionCode|               date|\n+---------------+--------------------+--------------------+-------------+-----------------+-------------------+\n|          Japan|            春分の日|            春分の日|         null|               JP|2019-03-21 00:00:00|\n|   South Africa|    Human Rights Day|    Human Rights Day|         null|               ZA|2019-03-21 00:00:00|\n|      Argentina|Día Nacional de l...|Día Nacional de l...|         null|               AR|2019-03-24 00:00:00|\n|         Norway|              Søndag|              Søndag|         null|               NO|2019-03-24 00:00:00|\n|         Sweden|              Söndag|              Söndag|         null|               SE|2019-03-24 00:00:00|\n|       Colombia|Día de San José [...|Día de San José [...|         null|               CO|2019-03-25 00:00:00|\n|         Norway|              Søndag|              Søndag|         null|               NO|2019-03-31 00:00:00|\n|         Sweden|              Söndag|              Söndag|         null|               SE|2019-03-31 00:00:00|\n|      Argentina|Día del Veterano ...|Día del Veterano ...|         null|               AR|2019-04-02 00:00:00|\n|         Norway|              Søndag|              Søndag|         null|               NO|2019-04-07 00:00:00|\n|         Sweden|              Söndag|              Söndag|         null|               SE|2019-04-07 00:00:00|\n|        Denmark|         Palmesøndag|         Palmesøndag|         null|               DK|2019-04-14 00:00:00|\n|         Norway|              Søndag|              Søndag|         null|               NO|2019-04-14 00:00:00|\n|         Sweden|              Söndag|              Söndag|         null|               SE|2019-04-14 00:00:00|\n|      Argentina|Semana Santa (Jue...|Semana Santa (Jue...|         null|               AR|2019-04-18 00:00:00|\n|       Colombia|Jueves Santo [Mau...|Jueves Santo [Mau...|         null|               CO|2019-04-18 00:00:00|\n|        Denmark|         Skærtorsdag|         Skærtorsdag|         null|               DK|2019-04-18 00:00:00|\n|         Norway|        Skjærtorsdag|        Skjærtorsdag|         null|               NO|2019-04-18 00:00:00|\n|      Argentina|Semana Santa (Vie...|Semana Santa (Vie...|         null|               AR|2019-04-19 00:00:00|\n|      Australia|         Good Friday|         Good Friday|         null|               AU|2019-04-19 00:00:00|\n+---------------+--------------------+--------------------+-------------+-----------------+-------------------+"
          },
          "metadata": {}
        }
      ],
      "metadata": {},
      "source": [
        "holidays_df.limit(20).show()"
      ],
      "attachments": {}
    },
    {
      "cell_type": "markdown",
      "metadata": {},
      "source": [
        "## Display DataFrame in tabular format"
      ],
      "attachments": {}
    },
    {
      "cell_type": "code",
      "execution_count": 16,
      "outputs": [
        {
          "output_type": "execute_result",
          "execution_count": 16,
          "data": {
            "application/json": {
              "rows": [
                [
                  "Japan",
                  "春分の日",
                  "春分の日",
                  "JP",
                  "2019-03-21T00:00:00.000Z"
                ],
                [
                  "South Africa",
                  "Human Rights Day",
                  "Human Rights Day",
                  "ZA",
                  "2019-03-21T00:00:00.000Z"
                ],
                [
                  "Argentina",
                  "Día Nacional de la Memoria por la Verdad y la Justicia [Memory's National Day for the Truth and Justice]",
                  "Día Nacional de la Memoria por la Verdad y la Justicia [Memory's National Day for the Truth and Justice]",
                  "AR",
                  "2019-03-24T00:00:00.000Z"
                ],
                [
                  "Norway",
                  "Søndag",
                  "Søndag",
                  "NO",
                  "2019-03-24T00:00:00.000Z"
                ],
                [
                  "Sweden",
                  "Söndag",
                  "Söndag",
                  "SE",
                  "2019-03-24T00:00:00.000Z"
                ],
                [
                  "Colombia",
                  "Día de San José [Saint Joseph's Day](Observed)",
                  "Día de San José [Saint Joseph's Day]",
                  "CO",
                  "2019-03-25T00:00:00.000Z"
                ],
                [
                  "Norway",
                  "Søndag",
                  "Søndag",
                  "NO",
                  "2019-03-31T00:00:00.000Z"
                ],
                [
                  "Sweden",
                  "Söndag",
                  "Söndag",
                  "SE",
                  "2019-03-31T00:00:00.000Z"
                ],
                [
                  "Argentina",
                  "Día del Veterano y de los Caidos en la Guerra de Malvinas [Veterans Day and the Fallen in the Malvinas War]",
                  "Día del Veterano y de los Caidos en la Guerra de Malvinas [Veterans Day and the Fallen in the Malvinas War]",
                  "AR",
                  "2019-04-02T00:00:00.000Z"
                ],
                [
                  "Norway",
                  "Søndag",
                  "Søndag",
                  "NO",
                  "2019-04-07T00:00:00.000Z"
                ],
                [
                  "Sweden",
                  "Söndag",
                  "Söndag",
                  "SE",
                  "2019-04-07T00:00:00.000Z"
                ],
                [
                  "Denmark",
                  "Palmesøndag",
                  "Palmesøndag",
                  "DK",
                  "2019-04-14T00:00:00.000Z"
                ],
                [
                  "Norway",
                  "Søndag",
                  "Søndag",
                  "NO",
                  "2019-04-14T00:00:00.000Z"
                ],
                [
                  "Sweden",
                  "Söndag",
                  "Söndag",
                  "SE",
                  "2019-04-14T00:00:00.000Z"
                ],
                [
                  "Argentina",
                  "Semana Santa (Jueves Santo)  [Holy day (Holy Thursday)]",
                  "Semana Santa (Jueves Santo)  [Holy day (Holy Thursday)]",
                  "AR",
                  "2019-04-18T00:00:00.000Z"
                ],
                [
                  "Colombia",
                  "Jueves Santo [Maundy Thursday]",
                  "Jueves Santo [Maundy Thursday]",
                  "CO",
                  "2019-04-18T00:00:00.000Z"
                ],
                [
                  "Denmark",
                  "Skærtorsdag",
                  "Skærtorsdag",
                  "DK",
                  "2019-04-18T00:00:00.000Z"
                ],
                [
                  "Norway",
                  "Skjærtorsdag",
                  "Skjærtorsdag",
                  "NO",
                  "2019-04-18T00:00:00.000Z"
                ],
                [
                  "Argentina",
                  "Semana Santa (Viernes Santo)  [Holy day (Holy Friday)]",
                  "Semana Santa (Viernes Santo)  [Holy day (Holy Friday)]",
                  "AR",
                  "2019-04-19T00:00:00.000Z"
                ],
                [
                  "Australia",
                  "Good Friday",
                  "Good Friday",
                  "AU",
                  "2019-04-19T00:00:00.000Z"
                ]
              ],
              "schema": [
                "countryOrRegion",
                "holidayName",
                "normalizeHolidayName",
                "countryRegionCode",
                "date"
              ]
            }
          },
          "metadata": {}
        }
      ],
      "metadata": {},
      "source": [
        "display(holidays_df.limit(20))"
      ],
      "attachments": {}
    }
  ]
}